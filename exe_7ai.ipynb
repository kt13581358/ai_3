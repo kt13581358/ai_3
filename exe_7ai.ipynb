{
  "nbformat": 4,
  "nbformat_minor": 0,
  "metadata": {
    "colab": {
      "provenance": []
    },
    "kernelspec": {
      "name": "python3",
      "display_name": "Python 3"
    },
    "language_info": {
      "name": "python"
    }
  },
  "cells": [
    {
      "cell_type": "code",
      "execution_count": 11,
      "metadata": {
        "id": "NC_2vl3hAsXv"
      },
      "outputs": [],
      "source": [
        "%pip install -U --quiet langchain tiktoken langchain_openai langchain-community"
      ]
    },
    {
      "cell_type": "code",
      "source": [
        "!pip install -Uq langchain-openai"
      ],
      "metadata": {
        "id": "zwZJgu5BFYWj"
      },
      "execution_count": 12,
      "outputs": []
    },
    {
      "cell_type": "code",
      "source": [
        "from langchain_openai import ChatOpenAI\n",
        "from langchain.schema import SystemMessage, HumanMessage, AIMessage\n",
        "from langchain.prompts import ChatPromptTemplate, MessagesPlaceholder\n",
        "from langchain_core.output_parsers import StrOutputParser\n",
        "\n",
        "llm = ChatOpenAI(model=\"gpt-3.5-turbo\")\n",
        "\n",
        "def generation(llm, system_message_text):\n",
        "    prompt = ChatPromptTemplate.from_messages([\n",
        "        (\"system\", system_message_text),\n",
        "        MessagesPlaceholder(variable_name=\"messages\")\n",
        "    ])\n",
        "    chain = prompt | llm | StrOutputParser()\n",
        "    return chain\n",
        "\n",
        "system_message = (\n",
        "    \"You are a TOEFL candidate with upper-intermediate English. \"\n",
        "    \"Write a response that sounds somewhat human and not too perfect. \"\n",
        "    \"Consider the feedback from the TOEFL expert in your revisions.\"\n",
        ")\n",
        "generation_chain = generation(llm, system_message)\n",
        "\n",
        "def do_reflection(llm):\n",
        "    reflection_prompt = ChatPromptTemplate.from_messages(\n",
        "        [\n",
        "            (\n",
        "                \"system\",\n",
        "                \"\"\"You are a TOEFL writing expert. Evaluate the following essay based on TOEFL scoring criteria (0-5) and provide feedback ONLY in the following format:\n",
        "\n",
        "Score: <number 0-5>\n",
        "Strengths: <1-2 short strengths>\n",
        "Weaknesses: <1-2 short weaknesses>\n",
        "Quick Tips: <1-2 short actionable fixes>\n",
        "Humanize: <1 suggestion to sound more natural>\"\"\"\n",
        "            ),\n",
        "            MessagesPlaceholder(variable_name=\"messages\"),\n",
        "        ]\n",
        "    )\n",
        "    chain = reflection_prompt | llm | StrOutputParser()\n",
        "    return chain\n",
        "\n",
        "reflection_chain = do_reflection(llm)\n",
        "\n",
        "def generate_and_reflect(topic, max_attempts=3):\n",
        "    messages = [HumanMessage(content=topic)]\n",
        "\n",
        "    for attempt in range(max_attempts):\n",
        "        print(f\"\\n=== Attempt {attempt+1} ===\")\n",
        "\n",
        "        generation_input = {\"messages\": messages}\n",
        "        response = generation_chain.invoke(generation_input)\n",
        "        print(\"Generated Essay:\\n\", response, \"\\n\")\n",
        "\n",
        "        feedback_input = {\"messages\": [AIMessage(content=response)]}\n",
        "        feedback = reflection_chain.invoke(feedback_input)\n",
        "        print(\"Reflector Feedback:\\n\", feedback, \"\\n\")\n",
        "\n",
        "\n",
        "        messages = [\n",
        "            HumanMessage(content=topic),\n",
        "            AIMessage(content=response),\n",
        "            HumanMessage(content=f\"Please revise based on this feedback:\\n{feedback}\")\n",
        "        ]\n",
        ""
      ],
      "metadata": {
        "id": "lwog5vNHoulz"
      },
      "execution_count": 18,
      "outputs": []
    },
    {
      "cell_type": "code",
      "source": [
        "if __name__ == \"__main__\":\n",
        "    external_topic = \"If you could travel anywhere in the world, where would you go and why?\"\n",
        "    generate_and_reflect(external_topic)"
      ],
      "metadata": {
        "colab": {
          "base_uri": "https://localhost:8080/"
        },
        "id": "0-XRkATnpAQj",
        "outputId": "c5dd9d7d-ad77-45c2-c3c8-915f1e456e3e"
      },
      "execution_count": 19,
      "outputs": [
        {
          "output_type": "stream",
          "name": "stdout",
          "text": [
            "\n",
            "=== Attempt 1 ===\n",
            "Generated Essay:\n",
            " I would love to travel to Japan. I've always been fascinated by Japanese culture, the beautiful landscapes, the delicious food, and the mix of tradition and modernity. Visiting places like Tokyo, Kyoto, and Mount Fuji would be a dream come true. Plus, I would love to experience the cherry blossom season in Japan, it looks absolutely stunning! \n",
            "\n",
            "Reflector Feedback:\n",
            " Score: 4\n",
            "Strengths: Engaging introduction, clear expression of interest in traveling to Japan\n",
            "Weaknesses: Lack of specific details or examples related to Japanese culture, food, or landmarks \n",
            "Quick Tips: Include specific details or examples to support your points\n",
            "Humanize: Consider sharing a personal experience or connection to Japan to add depth to your essay \n",
            "\n",
            "\n",
            "=== Attempt 2 ===\n",
            "Generated Essay:\n",
            " I've always been drawn to Japan, its captivating culture, diverse landscapes, and delicious cuisine. The blend of ancient traditions with modern innovations fascinates me. My dream is to explore the bustling streets of Tokyo, immerse myself in the serene temples of Kyoto, and witness the majestic beauty of Mount Fuji. The idea of experiencing the cherry blossom season in Japan, a symbol of beauty and transience, fills me with excitement. The thought of wandering through blooming sakura trees, surrounded by a sea of delicate pink petals, stirs a sense of wonder and tranquility in me. This journey would not only be a feast for my senses but also a deeply enriching cultural experience that I long for. \n",
            "\n",
            "Reflector Feedback:\n",
            " Score: 3\n",
            "Strengths: Descriptive language creates vivid imagery\n",
            "Weaknesses: Lack of structure, limited development of ideas\n",
            "Quick Tips: Try to organize your ideas into clear paragraphs with topic sentences. Expand on your reasons for being drawn to Japan and provide more specific examples to support your points.\n",
            "Humanize: Consider adding personal anecdotes or reflections to make your connection to Japan more authentic. \n",
            "\n",
            "\n",
            "=== Attempt 3 ===\n",
            "Generated Essay:\n",
            " I have always been captivated by the allure of Japan. Its rich culture, diverse landscapes, and mouthwatering cuisine hold a special place in my heart. One of the main reasons I am drawn to Japan is the fascinating blend of ancient traditions with cutting-edge technology that defines the country. The idea of wandering through the bustling streets of Tokyo, exploring the serene temples of Kyoto, and witnessing the breathtaking beauty of Mount Fuji fills me with a sense of wanderlust and excitement.\n",
            "\n",
            "One of my biggest dreams is to experience the cherry blossom season in Japan. The thought of strolling through rows of blooming sakura trees, surrounded by a sea of delicate pink petals, evokes a sense of wonder and tranquility in me. I can imagine the serene beauty of the landscapes and the captivating fragrance of the cherry blossoms filling the air, creating a truly magical atmosphere.\n",
            "\n",
            "Moreover, I am eager to delve into the world-renowned Japanese cuisine. From savoring the freshest sushi to indulging in piping hot bowls of ramen, Japanese food is a culinary adventure waiting to be explored. The meticulous preparation, artful presentation, and exquisite flavors of Japanese dishes never fail to impress me.\n",
            "\n",
            "Overall, Japan represents a unique blend of tradition and modernity that I find incredibly appealing. The opportunity to immerse myself in the country's culture, explore its stunning natural beauty, and savor its delectable cuisine is a dream that I hope to turn into reality one day. \n",
            "\n",
            "Reflector Feedback:\n",
            " Score: 3\n",
            "Strengths: Descriptive language creates a vivid picture of Japan, strong passion for the country shines through\n",
            "Weaknesses: Some sentences are repetitive, lacking in variety and complexity\n",
            "Quick Tips: Try to vary your sentence structure and incorporate more specific examples to strengthen your points\n",
            "Humanize: Consider sharing a personal anecdote or experience to add a more personal touch to your essay \n",
            "\n"
          ]
        }
      ]
    },
    {
      "cell_type": "code",
      "source": [
        "if __name__ == \"__main__\":\n",
        "    external_topic = \"What is your favorite book or movie?\"\n",
        "    generate_and_reflect(external_topic)"
      ],
      "metadata": {
        "colab": {
          "base_uri": "https://localhost:8080/"
        },
        "id": "_DBezrTQplVD",
        "outputId": "a3db50a4-90a9-40b6-8d75-dcb342d43b26"
      },
      "execution_count": 20,
      "outputs": [
        {
          "output_type": "stream",
          "name": "stdout",
          "text": [
            "\n",
            "=== Attempt 1 ===\n",
            "Generated Essay:\n",
            " Hey there! One of my favorite books is \"The Great Gatsby\" by F. Scott Fitzgerald. I love the way the author captures the glamour and tragedy of the Roaring Twenties. How about you? Do you have a favorite book or movie? \n",
            "\n",
            "Reflector Feedback:\n",
            " Score: 3\n",
            "Strengths: The essay is well-organized and the author effectively introduces the topic with a personal anecdote.\n",
            "Weaknesses: The essay lacks detailed examples or analysis to support the main points.\n",
            "Quick Tips: Include specific examples or evidence to strengthen your arguments. Try to delve deeper into the analysis of your ideas.\n",
            "Humanize: Consider sharing more personal experiences or perspectives to connect with the reader on a deeper level. \n",
            "\n",
            "\n",
            "=== Attempt 2 ===\n",
            "Generated Essay:\n",
            " Hey! One of the books that I really enjoy is \"The Great Gatsby\" by F. Scott Fitzgerald. I love how the author portrays the glitz and the dark side of the Jazz Age. It's a fascinating mix of wealth, love, and loss that always keeps me hooked. What about you? Do you have a favorite book or movie that you could talk about for hours? \n",
            "\n",
            "Reflector Feedback:\n",
            " Score: 3\n",
            "Strengths: Engaging writing style, personal connection to the topic\n",
            "Weaknesses: Lack of structured essay format, limited complexity in language use\n",
            "Quick Tips: Work on organizing your ideas into an introduction, body paragraphs, and a conclusion. Try to incorporate more advanced vocabulary and varied sentence structures to showcase your language skills.\n",
            "Humanize: Your personal experiences and interests make your writing interesting. Consider incorporating more examples and anecdotes to further engage the reader. \n",
            "\n",
            "\n",
            "=== Attempt 3 ===\n",
            "Generated Essay:\n",
            " Hey there! One book that's really stuck with me is \"The Great Gatsby\" by F. Scott Fitzgerald. The way the author captures the glamour and the dark side of the Jazz Age is just mesmerizing. It's like a rollercoaster of wealth, love, and loss that keeps me turning the pages. How about you? Any favorite books or movies you could talk about forever? \n",
            "\n",
            "Reflector Feedback:\n",
            " Score: 4\n",
            "Strengths: Engaging tone, vivid description of the book\n",
            "Weaknesses: Minor grammatical errors, could expand more on personal connection to the book\n",
            "Quick Tips: Proofread for grammar errors, elaborate more on how the book has personally impacted you\n",
            "Humanize: Share a personal anecdote or emotion related to your experience with the book \n",
            "\n"
          ]
        }
      ]
    }
  ]
}