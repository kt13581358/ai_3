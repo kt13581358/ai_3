{
  "nbformat": 4,
  "nbformat_minor": 0,
  "metadata": {
    "colab": {
      "provenance": []
    },
    "kernelspec": {
      "name": "python3",
      "display_name": "Python 3"
    },
    "language_info": {
      "name": "python"
    }
  },
  "cells": [
    {
      "cell_type": "code",
      "source": [
        "from PIL import Image\n",
        "from openai import OpenAI\n",
        "import requests\n",
        "import os\n",
        "import getpass\n",
        "from getpass import getpass\n",
        "\n",
        "api_key = getpass(\"کلید API خود را وارد کنید (متن پنهان می‌ماند): \")\n",
        "client = OpenAI(api_key=api_key)"
      ],
      "metadata": {
        "id": "GS8oI4Q2cpt2",
        "colab": {
          "base_uri": "https://localhost:8080/"
        },
        "outputId": "0bc47d7b-a2e8-4ce2-dd6e-2a94fbe5d69d"
      },
      "execution_count": 9,
      "outputs": [
        {
          "name": "stdout",
          "output_type": "stream",
          "text": [
            "کلید API خود را وارد کنید (متن پنهان می‌ماند): ··········\n"
          ]
        }
      ]
    },
    {
      "cell_type": "code",
      "source": [
        "def generate_logo_image(logo_prompt_text: str, save_path: str ):\n",
        "\n",
        "    response = client.images.generate(\n",
        "        model=\"dall-e-3\",\n",
        "        prompt=logo_prompt_text,\n",
        "        size=\"1024x1024\",\n",
        "        quality=\"standard\",\n",
        "        n=1,\n",
        "    )\n",
        "    image_url = response.data[0].url\n",
        "    generated_image = requests.get(image_url).content\n",
        "\n",
        "    with open(save_path, \"wb\") as image_file:\n",
        "        image_file.write(generated_image)\n",
        "\n",
        "    img = Image.open(save_path)\n",
        "    img.show()\n",
        "    return save_path\n"
      ],
      "metadata": {
        "id": "S1BdcL7QrOrm"
      },
      "execution_count": 15,
      "outputs": []
    },
    {
      "cell_type": "code",
      "source": [
        "logo_prompt_text ='''تصویر یه آشپز کارتونی می خوام'''\n",
        "save_path = \"my_image.png\"\n",
        "generate_logo_image(logo_prompt_text , save_path)"
      ],
      "metadata": {
        "colab": {
          "base_uri": "https://localhost:8080/",
          "height": 35
        },
        "id": "oPElwFsI6wrm",
        "outputId": "439caebe-9069-4d87-f6e3-a6681753b344"
      },
      "execution_count": 37,
      "outputs": [
        {
          "output_type": "execute_result",
          "data": {
            "text/plain": [
              "'my_image.png'"
            ],
            "application/vnd.google.colaboratory.intrinsic+json": {
              "type": "string"
            }
          },
          "metadata": {},
          "execution_count": 37
        }
      ]
    },
    {
      "cell_type": "code",
      "source": [
        "logo_prompt_text ='''تصویر کارتونی یه آشپز مرد می خوام که شرایط زیر رو داشته باشه:\n",
        "          انیمه و کاریکاتوری باشه\n",
        "          تپل و با مزه باشه\n",
        "          سبیل هم داشته باشه\n",
        "          لباس آشپزی داشته باشه'''\n",
        "save_path = \"my_image_2.png\"\n",
        "generate_logo_image(logo_prompt_text , save_path)"
      ],
      "metadata": {
        "colab": {
          "base_uri": "https://localhost:8080/",
          "height": 35
        },
        "id": "DQ1PL6AC6vlv",
        "outputId": "4a34e615-c1d2-4664-a372-ed24ece55922"
      },
      "execution_count": 39,
      "outputs": [
        {
          "output_type": "execute_result",
          "data": {
            "text/plain": [
              "'my_image_2.png'"
            ],
            "application/vnd.google.colaboratory.intrinsic+json": {
              "type": "string"
            }
          },
          "metadata": {},
          "execution_count": 39
        }
      ]
    },
    {
      "cell_type": "code",
      "source": [
        "logo_prompt_text ='''یه لوگو می خوام که خصوصیات زیر رو داشته باشه:\n",
        "                    برای یه رستوران سنتی باشه\n",
        "                    از رنگ های شاد و گرم داخل اون استفاده شده باشه\n",
        "                    \"اسم رستوران = \"بابای خوب'''\n",
        "save_path = \"my_logo_1.png\"\n",
        "generate_logo_image(logo_prompt_text , save_path)"
      ],
      "metadata": {
        "colab": {
          "base_uri": "https://localhost:8080/",
          "height": 35
        },
        "id": "zMqXpi-ewWvc",
        "outputId": "1ac6cc8a-5462-49db-b662-8a642cbc763e"
      },
      "execution_count": 42,
      "outputs": [
        {
          "output_type": "execute_result",
          "data": {
            "text/plain": [
              "'my_logo_1.png'"
            ],
            "application/vnd.google.colaboratory.intrinsic+json": {
              "type": "string"
            }
          },
          "metadata": {},
          "execution_count": 42
        }
      ]
    },
    {
      "cell_type": "code",
      "source": [
        "logo_prompt_text ='''یه لوگو می خوام با تصویر کارتونی یه آشپز مرد که شرایط زیر رو داشته باشه:\n",
        "          انیمه و کاریکاتوری باشه\n",
        "          تپل و با مزه باشه\n",
        "          سبیل هم داشته باشه\n",
        "          لباس آشپزی داشته باشه'''\n",
        "save_path = \"my_logo_2.png\"\n",
        "generate_logo_image(logo_prompt_text , save_path)"
      ],
      "metadata": {
        "colab": {
          "base_uri": "https://localhost:8080/",
          "height": 35
        },
        "id": "m_i3HaAc3O3m",
        "outputId": "3dcc58a5-e664-458c-d323-487460f48825"
      },
      "execution_count": 43,
      "outputs": [
        {
          "output_type": "execute_result",
          "data": {
            "text/plain": [
              "'my_logo_2.png'"
            ],
            "application/vnd.google.colaboratory.intrinsic+json": {
              "type": "string"
            }
          },
          "metadata": {},
          "execution_count": 43
        }
      ]
    },
    {
      "cell_type": "code",
      "source": [
        "logo_prompt_text ='''یه لوگو می خوام با تصویر کارتونی یه آشپز مرد که شرایط زیر رو داشته باشه:\n",
        "          انیمه و کاریکاتوری باشه\n",
        "          تپل و با مزه باشه\n",
        "          سبیل هم داشته باشه\n",
        "          لباس آشپزی داشته\n",
        "          اسم رستوران بابای خوب باشه'''\n",
        "save_path = \"my_logo_3.png\"\n",
        "generate_logo_image(logo_prompt_text , save_path)"
      ],
      "metadata": {
        "colab": {
          "base_uri": "https://localhost:8080/",
          "height": 35
        },
        "id": "CiSnPns7336o",
        "outputId": "15e9d5cc-944f-4246-b09a-bd1c5723bfb7"
      },
      "execution_count": 45,
      "outputs": [
        {
          "output_type": "execute_result",
          "data": {
            "text/plain": [
              "'my_logo_3.png'"
            ],
            "application/vnd.google.colaboratory.intrinsic+json": {
              "type": "string"
            }
          },
          "metadata": {},
          "execution_count": 45
        }
      ]
    },
    {
      "cell_type": "code",
      "source": [
        "logo_prompt_text ='''یه لوگو می خوام با تصویر کارتونی یه آشپز مرد که شرایط زیر رو داشته باشه:\n",
        "          انیمه و کاریکاتوری باشه\n",
        "          تپل و با مزه باشه\n",
        "          سبیل هم داشته باشه\n",
        "          لباس آشپزی داشته\n",
        "          قاشق و چنگال دستش باشه\n",
        "          اسم رستوران بابای خوب باشه'''\n",
        "save_path = \"my_logo_4.png\"\n",
        "generate_logo_image(logo_prompt_text , save_path)"
      ],
      "metadata": {
        "colab": {
          "base_uri": "https://localhost:8080/",
          "height": 35
        },
        "id": "MEnejJhL4ZEv",
        "outputId": "1b01b3d4-6970-4c82-92e3-c42e9caf4423"
      },
      "execution_count": 46,
      "outputs": [
        {
          "output_type": "execute_result",
          "data": {
            "text/plain": [
              "'my_logo_4.png'"
            ],
            "application/vnd.google.colaboratory.intrinsic+json": {
              "type": "string"
            }
          },
          "metadata": {},
          "execution_count": 46
        }
      ]
    },
    {
      "cell_type": "code",
      "source": [
        "logo_prompt_text ='''یه لوگو می خوام با تصویر کارتونی یه آشپز مرد که شرایط زیر رو داشته باشه:\n",
        "          انیمه و کاریکاتوری باشه\n",
        "          تپل و با مزه باشه\n",
        "          سبیل هم داشته باشه\n",
        "          لباس آشپزی داشته\n",
        "          قاشق و چنگال دستش باشه\n",
        "          یه آرم تجاری مناسب مناسب هم داشته بشه\n",
        "          اسم رستوران بابای خوب باشه'''\n",
        "save_path = \"my_logo_5.png\"\n",
        "generate_logo_image(logo_prompt_text , save_path)"
      ],
      "metadata": {
        "colab": {
          "base_uri": "https://localhost:8080/",
          "height": 35
        },
        "id": "SFbc1i0U6KKX",
        "outputId": "0048f034-c62d-43b8-857a-299c354eba6e"
      },
      "execution_count": 47,
      "outputs": [
        {
          "output_type": "execute_result",
          "data": {
            "text/plain": [
              "'my_logo_5.png'"
            ],
            "application/vnd.google.colaboratory.intrinsic+json": {
              "type": "string"
            }
          },
          "metadata": {},
          "execution_count": 47
        }
      ]
    }
  ]
}