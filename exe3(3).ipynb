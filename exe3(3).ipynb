{
  "cells": [
    {
      "cell_type": "code",
      "execution_count": 11,
      "id": "de418a21",
      "metadata": {
        "id": "de418a21"
      },
      "outputs": [],
      "source": [
        "!pip install langchain langchain-huggingface langchain_community faiss-cpu docx2txt -q"
      ]
    },
    {
      "cell_type": "code",
      "execution_count": 13,
      "id": "239638ff",
      "metadata": {
        "colab": {
          "base_uri": "https://localhost:8080/"
        },
        "id": "239638ff",
        "outputId": "f83eb450-1dfb-419f-a4dd-2ddd61d18f70"
      },
      "outputs": [
        {
          "output_type": "stream",
          "name": "stderr",
          "text": [
            "WARNING:sentence_transformers.SentenceTransformer:No sentence-transformers model found with name HooshvareLab/bert-base-parsbert-uncased. Creating a new one with mean pooling.\n"
          ]
        }
      ],
      "source": [
        "from langchain_huggingface.embeddings import HuggingFaceEmbeddings\n",
        "model_name = \"HooshvareLab/bert-base-parsbert-uncased\"\n",
        "model_kwargs = {'device': 'cpu'}\n",
        "encode_kwargs = {'normalize_embeddings': False}\n",
        "hf_embedding = HuggingFaceEmbeddings(\n",
        "model_name=model_name,\n",
        "model_kwargs=model_kwargs,\n",
        "encode_kwargs=encode_kwargs)"
      ]
    },
    {
      "cell_type": "code",
      "execution_count": 14,
      "id": "3b3d6f6b",
      "metadata": {
        "colab": {
          "base_uri": "https://localhost:8080/"
        },
        "id": "3b3d6f6b",
        "outputId": "52e84906-4ad7-4d06-91d6-9ecfef247841"
      },
      "outputs": [
        {
          "output_type": "stream",
          "name": "stdout",
          "text": [
            "طول embedding: 768\n"
          ]
        }
      ],
      "source": [
        "text = \"افراد و آگاهی، همه دانش صحیح انتقال با هوشواره معتقدیم در ما\"\n",
        "embed = hf_embedding.embed_query(text)\n",
        "print(f\"طول embedding: {len(embed)}\")"
      ]
    },
    {
      "cell_type": "code",
      "source": [
        "from langchain.text_splitter import RecursiveCharacterTextSplitter"
      ],
      "metadata": {
        "id": "BIxIW9sHb46K"
      },
      "id": "BIxIW9sHb46K",
      "execution_count": 15,
      "outputs": []
    },
    {
      "cell_type": "code",
      "source": [
        "files = [\n",
        "    {\"path\": \"/content/esfahan.docx\", \"source\": \"qhazvin\"},\n",
        "    {\"path\": \"/content/qhazvin.docx\", \"source\": \"tehran\"},\n",
        "    {\"path\": \"/content/shiraz.docx\", \"source\": \"shiraz\"}\n",
        "]\n",
        "\n",
        "all_chunks = []\n",
        "\n",
        "for file in files:\n",
        "\n",
        "  loader = Docx2txtLoader(file[\"path\"])\n",
        "  documents = loader.load()\n",
        "\n",
        "  text_splitter = RecursiveCharacterTextSplitter(\n",
        "      chunk_size=500,\n",
        "      chunk_overlap=50\n",
        "  )\n",
        "  chunks = text_splitter.split_documents(documents)\n",
        "\n",
        "  for chunk in chunks:\n",
        "      chunk.metadata[\"source\"] = file[\"source\"]\n",
        "      all_chunks.append(chunk)\n",
        "\n",
        "  print(f\"فایل {file['path']} با موفقیت لود شد. تعداد تکه‌ها: {len(chunks)}\")\n",
        "\n"
      ],
      "metadata": {
        "colab": {
          "base_uri": "https://localhost:8080/"
        },
        "id": "E5rOf3ngbR0s",
        "outputId": "2317a2d8-a533-4ad2-b538-382ff1980d23"
      },
      "id": "E5rOf3ngbR0s",
      "execution_count": 33,
      "outputs": [
        {
          "output_type": "stream",
          "name": "stdout",
          "text": [
            "فایل /content/esfahan.docx با موفقیت لود شد. تعداد تکه‌ها: 25\n",
            "فایل /content/qhazvin.docx با موفقیت لود شد. تعداد تکه‌ها: 33\n",
            "فایل /content/shiraz.docx با موفقیت لود شد. تعداد تکه‌ها: 24\n"
          ]
        }
      ]
    },
    {
      "cell_type": "code",
      "execution_count": 21,
      "id": "Wv6q5gEMZR83",
      "metadata": {
        "id": "Wv6q5gEMZR83"
      },
      "outputs": [],
      "source": [
        "from langchain_community.vectorstores import FAISS\n",
        "import faiss"
      ]
    },
    {
      "cell_type": "code",
      "source": [
        "index = faiss.IndexFlatL2(len(hf_embedding.embed_query(\"سلام\")))\n",
        "vector_store = FAISS.from_documents(\n",
        "    documents=all_chunks,\n",
        "    embedding=hf_embedding\n",
        ")\n",
        "\n",
        "query = \"غذاهای سنتی چیست؟\"\n",
        "results = vector_store.similarity_search(\n",
        "    query,\n",
        "    k=2,\n",
        "    filter={\"source\": \"tehran\"}\n",
        ")\n",
        "\n",
        "print(\"\\nنتایج جستجوی معنایی با فیلتر (منبع: tehran):\")\n",
        "for i, res in enumerate(results, 1):\n",
        "    print(f\"* نتیجه {i}: {res.page_content} [{res.metadata}]\")"
      ],
      "metadata": {
        "colab": {
          "base_uri": "https://localhost:8080/"
        },
        "id": "GxCf1Cr-cOFz",
        "outputId": "1851fcde-0818-4efe-cfb2-2d800c16cd6b"
      },
      "id": "GxCf1Cr-cOFz",
      "execution_count": 35,
      "outputs": [
        {
          "output_type": "stream",
          "name": "stdout",
          "text": [
            "\n",
            "نتایج جستجوی معنایی با فیلتر (منبع: tehran):\n",
            "* نتیجه 1: سفال و سرامیک\n",
            "\n",
            "محصولات سفال و سرامیک نقش بسیار مهمی در صنایع‌دستی قزوین دارند. آثار سفالینه و سرامیکی با طرح‌ها و نقوش متنوع از جمله سوغاتی‌های محبوب این شهر هستند.\n",
            "\n",
            "شیرینی‌های محلی\n",
            "\n",
            "شیرینی‌های محلی مانند شیرینی قندی، پادرازی، نان چای و نان‌بادامی قزوین از جمله سوغاتی‌های خوشمزه و محبوب قزوین هستند.\n",
            "\n",
            "عطر و ادکلن [{'source': 'tehran'}]\n",
            "* نتیجه 2: شیرین‌پلو\n",
            "\n",
            "شیرین پلو یکی از غذاهای سنتی و محبوب استان قزوین است که با طعم شیرین و دلچسب خود، طرفداران زیادی دارد. این غذا از ترکیب برنج، خلال پرتقال، شربت، خلال بادام، خلال پسته، زعفران، کره، سیب زمینی و سینه مرغ تهیه می‌شود.\n",
            "\n",
            " آش دوغ قزوین [{'source': 'tehran'}]\n"
          ]
        }
      ]
    }
  ],
  "metadata": {
    "colab": {
      "provenance": []
    },
    "kernelspec": {
      "display_name": "Python 3",
      "name": "python3"
    },
    "language_info": {
      "name": "python"
    }
  },
  "nbformat": 4,
  "nbformat_minor": 5
}