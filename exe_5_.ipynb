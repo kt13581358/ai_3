{
  "cells": [
    {
      "cell_type": "code",
      "execution_count": 17,
      "id": "_j3N9dYN1mry",
      "metadata": {
        "id": "_j3N9dYN1mry"
      },
      "outputs": [],
      "source": [
        "pip install -qU yfinance langchain langchain-openai"
      ]
    },
    {
      "cell_type": "code",
      "execution_count": 18,
      "id": "HtUqD2KvkuzW",
      "metadata": {
        "id": "HtUqD2KvkuzW"
      },
      "outputs": [],
      "source": [
        "pip install -qU langchain-community"
      ]
    },
    {
      "cell_type": "code",
      "execution_count": 16,
      "id": "Upt02M9OHFYR",
      "metadata": {
        "colab": {
          "base_uri": "https://localhost:8080/"
        },
        "id": "Upt02M9OHFYR",
        "outputId": "e76ff4f6-2c91-44ad-b25d-ed4deacbdd42"
      },
      "outputs": [
        {
          "name": "stdout",
          "output_type": "stream",
          "text": [
            "Requirement already satisfied: nest_asyncio in /usr/local/lib/python3.11/dist-packages (1.6.0)\n",
            "کلید API خود را وارد کنید (متن پنهان می‌ماند): ··········\n"
          ]
        },
        {
          "name": "stderr",
          "output_type": "stream",
          "text": [
            "/usr/local/lib/python3.11/dist-packages/langsmith/client.py:272: LangSmithMissingAPIKeyWarning: API key must be provided when using hosted LangSmith API\n",
            "  warnings.warn(\n"
          ]
        },
        {
          "name": "stdout",
          "output_type": "stream",
          "text": [
            "\n",
            "\n",
            "\u001b[1m> Entering new AgentExecutor chain...\u001b[0m\n",
            "\u001b[32;1m\u001b[1;3mI should use the get_stock_price tool to find the current price of Apple stock.\n",
            "Action: get_stock_price\n",
            "Action Input: \"AAPL\"\u001b[0m\u001b[36;1m\u001b[1;3mقیمت لحظه‌ای AAPL: 229.13 دلار\u001b[0m\u001b[32;1m\u001b[1;3mI need to provide the answer in the requested format.\n",
            "Final Answer: قیمت سهام اپل در حال حاضر 229.13 دلار است.\u001b[0m\n",
            "\n",
            "\u001b[1m> Finished chain.\u001b[0m\n",
            "نتیجه پرسش 1: {'input': 'قیمت سهام اپل چقدر است؟', 'output': 'قیمت سهام اپل در حال حاضر 229.13 دلار است.'}\n",
            "\n",
            "\n",
            "\u001b[1m> Entering new AgentExecutor chain...\u001b[0m\n",
            "\u001b[32;1m\u001b[1;3mI should use the get_stock_price tool to get the stock price of Microsoft.\n",
            "Action: get_stock_price\n",
            "Action Input: \"MSFT\"\u001b[0m\u001b[36;1m\u001b[1;3mقیمت لحظه‌ای MSFT: 522.46 دلار\u001b[0m\u001b[32;1m\u001b[1;3mI now have the stock price of Microsoft.\n",
            "Final Answer: قیمت لحظه‌ای سهام مایکروسافت 522.46 دلار است.\u001b[0m\n",
            "\n",
            "\u001b[1m> Finished chain.\u001b[0m\n",
            "نتیجه پرسش 2: {'input': 'آیا می\\u200cتوانی قیمت سهام مایکروسافت را به من بگویی؟', 'output': 'قیمت لحظه\\u200cای سهام مایکروسافت 522.46 دلار است.'}\n",
            "\n",
            "\n",
            "\u001b[1m> Entering new AgentExecutor chain...\u001b[0m\n",
            "\u001b[32;1m\u001b[1;3mI should use the get_stock_price tool to check the current price of Google stock.\n",
            "Action: get_stock_price\n",
            "Action Input: \"GOOGL\"\u001b[0m\u001b[36;1m\u001b[1;3mقیمت لحظه‌ای GOOGL: 201.32 دلار\u001b[0m\u001b[32;1m\u001b[1;3mI now know the final answer\n",
            "Final Answer: قیمت لحظه‌ای سهام گوگل 201.32 دلار است.\u001b[0m\n",
            "\n",
            "\u001b[1m> Finished chain.\u001b[0m\n",
            "نتیجه پرسش 3: {'input': 'وضعیت سهام گوگل چگونه است؟', 'output': 'قیمت لحظه\\u200cای سهام گوگل 201.32 دلار است.'}\n",
            "\n",
            "\n",
            "\u001b[1m> Entering new AgentExecutor chain...\u001b[0m\n",
            "\u001b[32;1m\u001b[1;3mI should use the get_stock_price tool to find the current price of TSLA.\n",
            "Action: get_stock_price\n",
            "Action Input: \"TSLA\"\u001b[0m\u001b[36;1m\u001b[1;3mقیمت لحظه‌ای TSLA: 329.36 دلار\u001b[0m\u001b[32;1m\u001b[1;3mI now know the final answer.\n",
            "Final Answer: قیمت لحظه‌ای TSLA: 329.36 دلار\u001b[0m\n",
            "\n",
            "\u001b[1m> Finished chain.\u001b[0m\n",
            "نتیجه پرسش 4: {'input': 'TSLA قیمت چقدر است؟', 'output': 'قیمت لحظه\\u200cای TSLA: 329.36 دلار'}\n"
          ]
        }
      ],
      "source": [
        "!pip install nest_asyncio\n",
        "import nest_asyncio\n",
        "nest_asyncio.apply()\n",
        "\n",
        "from langchain.agents import tool\n",
        "import yfinance as yf\n",
        "\n",
        "@tool\n",
        "def get_stock_price(symbol: str) -> str:\n",
        "    \"\"\"دریافت قیمت لحظه‌ای سهام با استفاده از نماد (مثل AAPL یا GOOGL)\"\"\"\n",
        "    try:\n",
        "        stock = yf.Ticker(symbol)\n",
        "        data = stock.history(period=\"1d\")\n",
        "        if not data.empty:\n",
        "            last_price = data['Close'].iloc[-1]\n",
        "            return f\"قیمت لحظه‌ای {symbol}: {last_price:.2f} دلار\"\n",
        "        return f\"نمودار قیمتی برای نماد {symbol} یافت نشد\"\n",
        "    except Exception as e:\n",
        "        return f\"خطا در دریافت اطلاعات سهام: {str(e)}\"\n",
        "\n",
        "import os\n",
        "#os.environ[\"OPENAI_API_KEY\"] = \"کلید_API_تو\"\n",
        "from getpass import getpass\n",
        "api_key = getpass(\"کلید API خود را وارد کنید (متن پنهان می‌ماند): \")\n",
        "\n",
        "from langchain_openai import ChatOpenAI\n",
        "llm = ChatOpenAI(model=\"gpt-3.5-turbo\", temperature=0)\n",
        "\n",
        "tools = [get_stock_price]\n",
        "\n",
        "from langchain import hub\n",
        "prompt = hub.pull(\"hwchase17/react\")\n",
        "\n",
        "from langchain.agents import create_react_agent, AgentExecutor\n",
        "agent = create_react_agent(llm, tools, prompt)\n",
        "agent_executor = AgentExecutor(\n",
        "    agent=agent,\n",
        "    tools=tools,\n",
        "    verbose=True,\n",
        "    max_iterations=20,\n",
        "    handle_parsing_errors=True\n",
        ")\n",
        "\n",
        "query_list = [\n",
        "    \"قیمت سهام اپل چقدر است؟\",\n",
        "    \"آیا می‌توانی قیمت سهام مایکروسافت را به من بگویی؟\",\n",
        "    \"وضعیت سهام گوگل چگونه است؟\",\n",
        "    \"TSLA قیمت چقدر است؟\"\n",
        "]\n",
        "\n",
        "import asyncio\n",
        "async def main():\n",
        "    for i, query in enumerate(query_list, start=1):\n",
        "        result = agent_executor.invoke({\"input\": query})\n",
        "        print(f\"نتیجه پرسش {i}: {result}\")\n",
        "\n",
        "loop = asyncio.get_event_loop()\n",
        "loop.run_until_complete(main())\n"
      ]
    }
  ],
  "metadata": {
    "colab": {
      "provenance": []
    },
    "kernelspec": {
      "display_name": "spyder-runtime",
      "language": "python",
      "name": "python3"
    },
    "language_info": {
      "codemirror_mode": {
        "name": "ipython",
        "version": 3
      },
      "file_extension": ".py",
      "mimetype": "text/x-python",
      "name": "python",
      "nbconvert_exporter": "python",
      "pygments_lexer": "ipython3",
      "version": "3.11.11"
    }
  },
  "nbformat": 4,
  "nbformat_minor": 5
}
